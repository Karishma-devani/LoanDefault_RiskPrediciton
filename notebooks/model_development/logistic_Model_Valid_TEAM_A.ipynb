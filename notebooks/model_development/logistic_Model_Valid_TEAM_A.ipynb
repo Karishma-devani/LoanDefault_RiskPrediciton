{
  "cells": [
    {
      "cell_type": "markdown",
      "source": [
        "LOGISTIC REGRESSION\n",
        "Model Accuracy\n",
        "*   Initial_Model: 0.9969615570919019  \n",
        "*   Model_by_applying class_weight='balanced':  0.987714122154212\n",
        "*   Model by applying smote_smpling: 0.9879638327853453\n",
        "*   model with hold_out_test_set :  0.9968294974166275"
      ],
      "metadata": {
        "id": "h9xNfgLnfZ0s"
      },
      "id": "h9xNfgLnfZ0s"
    },
    {
      "cell_type": "code",
      "source": [
        "from google.colab import drive\n",
        "drive.mount('/content/drive')"
      ],
      "metadata": {
        "colab": {
          "base_uri": "https://localhost:8080/"
        },
        "id": "ls1_YkXD665A",
        "outputId": "4ead3843-a836-4f0a-b357-825eae9dbd4e"
      },
      "id": "ls1_YkXD665A",
      "execution_count": 65,
      "outputs": [
        {
          "output_type": "stream",
          "name": "stdout",
          "text": [
            "Drive already mounted at /content/drive; to attempt to forcibly remount, call drive.mount(\"/content/drive\", force_remount=True).\n"
          ]
        }
      ]
    },
    {
      "cell_type": "code",
      "source": [
        "import pandas as pd\n",
        "from sklearn.model_selection import train_test_split\n",
        "from sklearn.linear_model import LinearRegression\n",
        "from sklearn.preprocessing import StandardScaler\n",
        "from sklearn.metrics import mean_squared_error, mean_absolute_error, r2_score\n"
      ],
      "metadata": {
        "id": "mGs0sU8H7YHE"
      },
      "id": "mGs0sU8H7YHE",
      "execution_count": 50,
      "outputs": []
    },
    {
      "cell_type": "markdown",
      "source": [
        "# **INITIAL MODEL FOR LOGISTIC REGESSION**"
      ],
      "metadata": {
        "id": "-Phprf08ffw6"
      },
      "id": "-Phprf08ffw6"
    },
    {
      "cell_type": "code",
      "execution_count": 51,
      "id": "6ad29205-d0ff-4d83-8bad-15e2b4657684",
      "metadata": {
        "colab": {
          "base_uri": "https://localhost:8080/"
        },
        "id": "6ad29205-d0ff-4d83-8bad-15e2b4657684",
        "outputId": "9d0db789-023d-4d97-e311-ec7028f5bcd6"
      },
      "outputs": [
        {
          "output_type": "stream",
          "name": "stdout",
          "text": [
            "✅ Accuracy: 0.9969615570919019\n",
            "\n",
            "📋 Classification Report:\n",
            "               precision    recall  f1-score   support\n",
            "\n",
            "           0       1.00      1.00      1.00     19109\n",
            "           1       1.00      0.98      0.99      3600\n",
            "\n",
            "    accuracy                           1.00     22709\n",
            "   macro avg       1.00      0.99      0.99     22709\n",
            "weighted avg       1.00      1.00      1.00     22709\n",
            "\n",
            "\n",
            "🧩 Confusion Matrix:\n",
            " [[19105     4]\n",
            " [   65  3535]]\n",
            "\n",
            "Model Performance Metrics:\n",
            "Accuracy:  0.9970\n",
            "Precision: 0.9989\n",
            "Recall:    0.9819\n",
            "F1-Score:  0.9903\n",
            "ROC-AUC:   0.9999\n",
            "\n",
            "🔍 Sample Prediction Probabilities:\n",
            "    Prob_Class_0  Prob_Class_1\n",
            "0      0.995628      0.004372\n",
            "1      0.995269      0.004731\n",
            "2      0.999289      0.000711\n",
            "3      0.999571      0.000429\n",
            "4      0.999984      0.000016\n"
          ]
        }
      ],
      "source": [
        "# === IMPORTS ===\n",
        "import pandas as pd\n",
        "import numpy as np\n",
        "from sklearn.model_selection import train_test_split\n",
        "from sklearn.linear_model import LogisticRegression\n",
        "from sklearn.metrics import (\n",
        "    accuracy_score, classification_report, confusion_matrix,\n",
        "    precision_score, recall_score, f1_score, roc_auc_score\n",
        ")\n",
        "from sklearn.preprocessing import StandardScaler, LabelEncoder\n",
        "\n",
        "# Load the dataset\n",
        "url = \"/content/drive/MyDrive/enhanced_featured_data.csv\"\n",
        "df = pd.read_csv(url)\n",
        "# === DROP UNUSED COLUMNS ===\n",
        "df.drop(['listingkey'], axis=1, inplace=True)\n",
        "\n",
        "# === CONVERT DATE COLUMNS TO FEATURES ===\n",
        "df['listingcreationdate'] = pd.to_datetime(df['listingcreationdate'], errors='coerce')\n",
        "df['listing_year'] = df['listingcreationdate'].dt.year\n",
        "df['listing_month'] = df['listingcreationdate'].dt.month\n",
        "df['listing_dayofweek'] = df['listingcreationdate'].dt.dayofweek\n",
        "df.drop(['listingcreationdate'], axis=1, inplace=True)\n",
        "\n",
        "# === HANDLE MISSING VALUES ===\n",
        "df = df.dropna()\n",
        "\n",
        "# === DROP HIGH CARDINALITY CATEGORICAL COLUMNS ===\n",
        "categorical_cols = df.select_dtypes(include='object').columns.tolist()\n",
        "high_cardinality = [col for col in categorical_cols if df[col].nunique() > 50]\n",
        "df.drop(columns=high_cardinality, inplace=True)\n",
        "\n",
        "# === LABEL ENCODING FOR REMAINING CATEGORICAL COLUMNS ===\n",
        "label_cols = df.select_dtypes(include='object').columns\n",
        "for col in label_cols:\n",
        "    df[col] = LabelEncoder().fit_transform(df[col].astype(str))\n",
        "\n",
        "# === SPLIT FEATURES AND TARGET ===\n",
        "X = df.drop('loan_status_binary', axis=1)\n",
        "y = df['loan_status_binary']\n",
        "\n",
        "# === TRAIN TEST SPLIT ===\n",
        "X_train, X_test, y_train, y_test = train_test_split(X, y, test_size=0.2, random_state=42)\n",
        "\n",
        "# === FEATURE SCALING ===\n",
        "scaler = StandardScaler()\n",
        "X_train = scaler.fit_transform(X_train)\n",
        "X_test = scaler.transform(X_test)\n",
        "\n",
        "# === TRAIN MODEL ===\n",
        "model = LogisticRegression(max_iter=1000)\n",
        "model.fit(X_train, y_train)\n",
        "\n",
        "# === PREDICT ===\n",
        "y_pred = model.predict(X_test)\n",
        "y_pred_proba = model.predict_proba(X_test)[:, 1]\n",
        "\n",
        "# === EVALUATE ===\n",
        "print(\"✅ Accuracy:\", accuracy_score(y_test, y_pred))\n",
        "print(\"\\n📋 Classification Report:\\n\", classification_report(y_test, y_pred))\n",
        "print(\"\\n🧩 Confusion Matrix:\\n\", confusion_matrix(y_test, y_pred))\n",
        "\n",
        "# Additional Metrics\n",
        "print(\"\\nModel Performance Metrics:\")\n",
        "print(f\"Accuracy:  {accuracy_score(y_test, y_pred):.4f}\")\n",
        "print(f\"Precision: {precision_score(y_test, y_pred):.4f}\")\n",
        "print(f\"Recall:    {recall_score(y_test, y_pred):.4f}\")\n",
        "print(f\"F1-Score:  {f1_score(y_test, y_pred):.4f}\")\n",
        "print(f\"ROC-AUC:   {roc_auc_score(y_test, y_pred_proba):.4f}\")\n",
        "\n",
        "# === OPTIONAL: Preview Prediction Probabilities ===\n",
        "proba_df = pd.DataFrame(model.predict_proba(X_test), columns=['Prob_Class_0', 'Prob_Class_1'])\n",
        "print(\"\\n🔍 Sample Prediction Probabilities:\\n\", proba_df.head())\n"
      ]
    },
    {
      "cell_type": "code",
      "execution_count": 52,
      "id": "4f77db35-32a1-4c92-bf0f-771b777fe5b7",
      "metadata": {
        "colab": {
          "base_uri": "https://localhost:8080/",
          "height": 410
        },
        "id": "4f77db35-32a1-4c92-bf0f-771b777fe5b7",
        "outputId": "1e5ac0ae-cd1e-450c-a106-3daaef9c6a50"
      },
      "outputs": [
        {
          "output_type": "display_data",
          "data": {
            "text/plain": [
              "<Figure size 600x400 with 1 Axes>"
            ],
            "image/png": "[encoded data removed]"
          },
          "metadata": {}
        }
      ],
      "source": [
        "from sklearn.metrics import roc_curve\n",
        "import matplotlib.pyplot as plt\n",
        "\n",
        "fpr, tpr, thresholds = roc_curve(y_test, y_pred_proba)\n",
        "plt.figure(figsize=(6,4))\n",
        "plt.plot(fpr, tpr, label=f\"ROC Curve (AUC = {roc_auc_score(y_test, y_pred_proba):.2f})\")\n",
        "plt.plot([0,1], [0,1], 'k--')\n",
        "plt.xlabel('False Positive Rate')\n",
        "plt.ylabel('True Positive Rate')\n",
        "plt.title('ROC Curve')\n",
        "plt.legend()\n",
        "plt.grid()\n",
        "plt.show()"
      ]
    },
    {
      "cell_type": "markdown",
      "source": [
        "# **K-Fold Cross validation**"
      ],
      "metadata": {
        "id": "Xw57RBYKfuZe"
      },
      "id": "Xw57RBYKfuZe"
    },
    {
      "cell_type": "code",
      "execution_count": 53,
      "id": "c0b48de2-aa0a-45d6-8b49-812b5d174932",
      "metadata": {
        "id": "c0b48de2-aa0a-45d6-8b49-812b5d174932"
      },
      "outputs": [],
      "source": [
        "from sklearn.model_selection import StratifiedKFold\n",
        "from sklearn.linear_model import LogisticRegression\n",
        "from sklearn.preprocessing import StandardScaler\n",
        "from sklearn.metrics import (accuracy_score, precision_score, recall_score,\n",
        "                             f1_score, roc_auc_score, confusion_matrix)\n",
        "import numpy as np\n",
        "\n",
        "# ===== Initialize StratifiedKFold ========\n",
        "skf = StratifiedKFold(n_splits=5, shuffle=True, random_state=42)\n",
        "model = LogisticRegression(max_iter=1000, class_weight='balanced')\n",
        "\n",
        "# ===== Store metrics =====\n",
        "train_metrics, test_metrics = [], []\n",
        "\n",
        "for train_idx, test_idx in skf.split(X, y):\n",
        "    # ===== Correct indexing with .iloc ======\n",
        "    X_train, X_test = X.iloc[train_idx], X.iloc[test_idx]\n",
        "    y_train, y_test = y.iloc[train_idx], y.iloc[test_idx]\n",
        "\n",
        "\n",
        "      # ===== Scale features within each fold ======\n",
        "    scaler = StandardScaler()\n",
        "    X_train_scaled = scaler.fit_transform(X_train)\n",
        "    X_test_scaled = scaler.transform(X_test)\n",
        "\n",
        "    # ====== Train model =======\n",
        "    model.fit(X_train_scaled, y_train)\n",
        "\n",
        "    # ==== Training set predictions =====\n",
        "    train_pred = model.predict(X_train_scaled)\n",
        "    train_pred_proba = model.predict_proba(X_train_scaled)[:, 1]\n",
        "\n",
        "    # ==== Test set predictions ====\n",
        "    test_pred = model.predict(X_test_scaled)\n",
        "    test_pred_proba = model.predict_proba(X_test_scaled)[:, 1]\n",
        "\n",
        "    # ===== Store metrics ====\n",
        "    train_metrics.append({\n",
        "        'accuracy': accuracy_score(y_train, train_pred),\n",
        "        'precision': precision_score(y_train, train_pred),\n",
        "        'recall': recall_score(y_train, train_pred),\n",
        "        'f1': f1_score(y_train, train_pred),\n",
        "        'auc': roc_auc_score(y_train, train_pred_proba)\n",
        "    })\n",
        "\n",
        "    test_metrics.append({\n",
        "        'accuracy': accuracy_score(y_test, test_pred),\n",
        "        'precision': precision_score(y_test, test_pred),\n",
        "        'recall': recall_score(y_test, test_pred),\n",
        "        'f1': f1_score(y_test, test_pred),\n",
        "        'auc': roc_auc_score(y_test, test_pred_proba),\n",
        "        'cm': confusion_matrix(y_test, test_pred)\n",
        "    })"
      ]
    },
    {
      "cell_type": "markdown",
      "source": [
        "# **Training vs testing Performance of Initial Model**"
      ],
      "metadata": {
        "id": "bYvKpjF2gQBi"
      },
      "id": "bYvKpjF2gQBi"
    },
    {
      "cell_type": "code",
      "source": [
        "def print_metrics(metrics, name):\n",
        "    print(f\"\\n{name} Metrics (Avg ± Std):\")\n",
        "    for metric in ['accuracy', 'precision', 'recall', 'f1', 'auc']:\n",
        "        values = [fold[metric] for fold in metrics]\n",
        "        print(f\"- {metric.capitalize()}: {np.mean(values):.4f} ± {np.std(values):.4f}\")\n",
        "\n",
        "print_metrics(train_metrics, \"Training\")\n",
        "print_metrics(test_metrics, \"Testing\")\n"
      ],
      "metadata": {
        "colab": {
          "base_uri": "https://localhost:8080/"
        },
        "id": "RxUoBsLFAug6",
        "outputId": "1fccf393-5b5b-41f0-b163-887f8d81f795"
      },
      "id": "RxUoBsLFAug6",
      "execution_count": 54,
      "outputs": [
        {
          "output_type": "stream",
          "name": "stdout",
          "text": [
            "\n",
            "Training Metrics (Avg ± Std):\n",
            "- Accuracy: 0.9984 ± 0.0001\n",
            "- Precision: 0.9955 ± 0.0006\n",
            "- Recall: 0.9942 ± 0.0007\n",
            "- F1: 0.9949 ± 0.0002\n",
            "- Auc: 0.9999 ± 0.0000\n",
            "\n",
            "Testing Metrics (Avg ± Std):\n",
            "- Accuracy: 0.9982 ± 0.0003\n",
            "- Precision: 0.9952 ± 0.0007\n",
            "- Recall: 0.9931 ± 0.0013\n",
            "- F1: 0.9942 ± 0.0009\n",
            "- Auc: 0.9999 ± 0.0001\n"
          ]
        }
      ]
    },
    {
      "cell_type": "code",
      "source": [
        "avg_cm = np.mean([fold['cm'] for fold in test_metrics], axis=0)\n",
        "print(\"\\nAverage Confusion Matrix:\")\n",
        "print(avg_cm)\n"
      ],
      "metadata": {
        "colab": {
          "base_uri": "https://localhost:8080/"
        },
        "id": "0Y0MNRAzAzFV",
        "outputId": "2b5de846-947f-4d21-f40f-17178a25be16"
      },
      "id": "0Y0MNRAzAzFV",
      "execution_count": 55,
      "outputs": [
        {
          "output_type": "stream",
          "name": "stdout",
          "text": [
            "\n",
            "Average Confusion Matrix:\n",
            "[[1.9104e+04 1.7200e+01]\n",
            " [2.4600e+01 3.5632e+03]]\n"
          ]
        }
      ]
    },
    {
      "cell_type": "code",
      "source": [
        "import matplotlib.pyplot as plt\n",
        "from sklearn.metrics import RocCurveDisplay\n",
        "\n",
        "plt.figure(figsize=(10, 8))\n",
        "for i, (_, test_idx) in enumerate(skf.split(X, y)):\n",
        "    RocCurveDisplay.from_predictions(\n",
        "        y.iloc[test_idx],\n",
        "        model.predict_proba(X.iloc[test_idx])[:, 1],\n",
        "        name=f\"Fold {i+1}\",\n",
        "        ax=plt.gca()\n",
        "    )\n",
        "plt.plot([0, 1], [0, 1], linestyle='--', color='gray')\n",
        "plt.title('ROC Curves by Fold')\n",
        "plt.show()\n"
      ],
      "metadata": {
        "colab": {
          "base_uri": "https://localhost:8080/",
          "height": 912
        },
        "id": "zr9tWH9LA2F_",
        "outputId": "18ccdd07-d340-4daa-aeb6-44031d41161a"
      },
      "id": "zr9tWH9LA2F_",
      "execution_count": 56,
      "outputs": [
        {
          "output_type": "stream",
          "name": "stderr",
          "text": [
            "/usr/local/lib/python3.11/dist-packages/sklearn/utils/validation.py:2732: UserWarning: X has feature names, but LogisticRegression was fitted without feature names\n",
            "  warnings.warn(\n",
            "/usr/local/lib/python3.11/dist-packages/sklearn/utils/validation.py:2732: UserWarning: X has feature names, but LogisticRegression was fitted without feature names\n",
            "  warnings.warn(\n",
            "/usr/local/lib/python3.11/dist-packages/sklearn/utils/validation.py:2732: UserWarning: X has feature names, but LogisticRegression was fitted without feature names\n",
            "  warnings.warn(\n",
            "/usr/local/lib/python3.11/dist-packages/sklearn/utils/validation.py:2732: UserWarning: X has feature names, but LogisticRegression was fitted without feature names\n",
            "  warnings.warn(\n",
            "/usr/local/lib/python3.11/dist-packages/sklearn/utils/validation.py:2732: UserWarning: X has feature names, but LogisticRegression was fitted without feature names\n",
            "  warnings.warn(\n"
          ]
        },
        {
          "output_type": "display_data",
          "data": {
            "text/plain": [
              "<Figure size 1000x800 with 1 Axes>"
            ],
            "image/png": "[encoded data removed]"
          },
          "metadata": {}
        }
      ]
    },
    {
      "cell_type": "code",
      "source": [
        "# ====== Compare training vs testing metrics ======\n",
        "print(\"\\nTraining vs Testing Performance:\")\n",
        "print(f\"Accuracy Difference: {np.mean([t['accuracy'] for t in train_metrics]) - np.mean([t['accuracy'] for t in test_metrics]):.4f}\")\n",
        "print(f\"AUC Difference: {np.mean([t['auc'] for t in train_metrics]) - np.mean([t['auc'] for t in test_metrics]):.4f}\")\n",
        "\n",
        "# ==== Visual comparison =====\n",
        "plt.bar(['Train', 'Test'],\n",
        "        [np.mean([t['accuracy'] for t in train_metrics]),\n",
        "         np.mean([t['accuracy'] for t in test_metrics])])\n",
        "plt.title('Accuracy: Train vs Test')\n",
        "plt.show()\n"
      ],
      "metadata": {
        "colab": {
          "base_uri": "https://localhost:8080/",
          "height": 521
        },
        "id": "7ATd1i9IBryK",
        "outputId": "868ad7e5-52c9-4f05-f823-856b68951700"
      },
      "id": "7ATd1i9IBryK",
      "execution_count": 57,
      "outputs": [
        {
          "output_type": "stream",
          "name": "stdout",
          "text": [
            "\n",
            "Training vs Testing Performance:\n",
            "Accuracy Difference: 0.0002\n",
            "AUC Difference: 0.0000\n"
          ]
        },
        {
          "output_type": "display_data",
          "data": {
            "text/plain": [
              "<Figure size 640x480 with 1 Axes>"
            ],
            "image/png": "[encoded data removed]"
          },
          "metadata": {}
        }
      ]
    },
    {
      "cell_type": "markdown",
      "source": [
        "# **Class Imbalance Analysis**"
      ],
      "metadata": {
        "id": "2i9JKaxlgbsC"
      },
      "id": "2i9JKaxlgbsC"
    },
    {
      "cell_type": "code",
      "source": [
        "import pandas as pd\n",
        "import matplotlib.pyplot as plt\n",
        "import seaborn as sns\n",
        "\n",
        "print(\"Target variable distribution:\")\n",
        "print(y.value_counts())\n",
        "print(\"\\nTarget variable proportions:\")\n",
        "print(y.value_counts(normalize=True) * 100)\n",
        "\n",
        "# ===== Visualize the distribution ====\n",
        "plt.figure(figsize=(6, 4))\n",
        "sns.countplot(x=y)\n",
        "plt.title('Distribution of Target Variable')\n",
        "plt.xlabel('Classes')\n",
        "plt.ylabel('Count')\n",
        "plt.show()\n",
        "\n",
        "#  ==== Define an imbalance threshold (e.g., if minority class is less than 20-30%) ====\n",
        "imbalance_threshold = 0.20 # 20%\n",
        "minority_class_proportion = y.value_counts(normalize=True).min()\n",
        "\n",
        "if minority_class_proportion < imbalance_threshold:\n",
        "    print(f\"\\nPotential class imbalance detected! Minority class is {minority_class_proportion:.2%} of total.\")\n",
        "else:\n",
        "    print(\"\\nClass distribution seems relatively balanced.\")\n"
      ],
      "metadata": {
        "colab": {
          "base_uri": "https://localhost:8080/",
          "height": 636
        },
        "id": "PJQmpPajKt_1",
        "outputId": "bae850c9-43ab-4307-d060-b095abf025c3"
      },
      "id": "PJQmpPajKt_1",
      "execution_count": 58,
      "outputs": [
        {
          "output_type": "stream",
          "name": "stdout",
          "text": [
            "Target variable distribution:\n",
            "loan_status_binary\n",
            "0    95606\n",
            "1    17939\n",
            "Name: count, dtype: int64\n",
            "\n",
            "Target variable proportions:\n",
            "loan_status_binary\n",
            "0    84.200978\n",
            "1    15.799022\n",
            "Name: proportion, dtype: float64\n"
          ]
        },
        {
          "output_type": "display_data",
          "data": {
            "text/plain": [
              "<Figure size 600x400 with 1 Axes>"
            ],
            "image/png": "[encoded data removed]"
          },
          "metadata": {}
        },
        {
          "output_type": "stream",
          "name": "stdout",
          "text": [
            "\n",
            "Potential class imbalance detected! Minority class is 15.80% of total.\n"
          ]
        }
      ]
    },
    {
      "cell_type": "markdown",
      "source": [
        "# **LOGISTIC REGRESSION MODEL by applying class_weight='balanced'**"
      ],
      "metadata": {
        "id": "-Pqp3ySigl9R"
      },
      "id": "-Pqp3ySigl9R"
    },
    {
      "cell_type": "code",
      "source": [
        "from sklearn.linear_model import LogisticRegression\n",
        "\n",
        "# For Logistic Regression\n",
        "# === TRAIN MODEL ===\n",
        "log_reg_model_balanced = LogisticRegression(class_weight='balanced', max_iter=1000, random_state=42)\n",
        "# Fit and evaluate as usual with your balanced model\n",
        "log_reg_model_balanced.fit(X_train, y_train)\n",
        "\n",
        "X_test = scaler.transform(X_test)\n",
        "\n",
        "# === PREDICT ===\n",
        "y_pred = log_reg_model_balanced.predict(X_test)\n",
        "y_pred_proba = log_reg_model_balanced.predict_proba(X_test)[:, 1]\n",
        "\n",
        "# === EVALUATE ===\n",
        "print(\"✅ Accuracy:\", accuracy_score(y_test, y_pred))\n",
        "print(\"\\n📋 Classification Report:\\n\", classification_report(y_test, y_pred))\n",
        "print(\"\\n🧩 Confusion Matrix:\\n\", confusion_matrix(y_test, y_pred))\n",
        "\n",
        "# Additional Metrics\n",
        "print(\"\\nModel Performance Metrics:\")\n",
        "print(f\"Accuracy:  {accuracy_score(y_test, y_pred):.4f}\")\n",
        "print(f\"Precision: {precision_score(y_test, y_pred):.4f}\")\n",
        "print(f\"Recall:    {recall_score(y_test, y_pred):.4f}\")\n",
        "print(f\"F1-Score:  {f1_score(y_test, y_pred):.4f}\")\n",
        "print(f\"ROC-AUC:   {roc_auc_score(y_test, y_pred_proba):.4f}\")\n",
        "\n",
        "# === Preview Prediction Probabilities ===\n",
        "proba_df = pd.DataFrame(model.predict_proba(X_test), columns=['Prob_Class_0', 'Prob_Class_1'])\n",
        "print(\"\\n🔍 Sample Prediction Probabilities:\\n\", proba_df.head())\n"
      ],
      "metadata": {
        "colab": {
          "base_uri": "https://localhost:8080/"
        },
        "id": "tZdOzLNxK6d_",
        "outputId": "dbee17b6-101e-4cac-f0c4-828b8fefd88d"
      },
      "id": "tZdOzLNxK6d_",
      "execution_count": 59,
      "outputs": [
        {
          "output_type": "stream",
          "name": "stdout",
          "text": [
            "✅ Accuracy: 0.987714122154212\n",
            "\n",
            "📋 Classification Report:\n",
            "               precision    recall  f1-score   support\n",
            "\n",
            "           0       0.99      1.00      0.99     19121\n",
            "           1       1.00      0.92      0.96      3588\n",
            "\n",
            "    accuracy                           0.99     22709\n",
            "   macro avg       0.99      0.96      0.98     22709\n",
            "weighted avg       0.99      0.99      0.99     22709\n",
            "\n",
            "\n",
            "🧩 Confusion Matrix:\n",
            " [[19121     0]\n",
            " [  279  3309]]\n",
            "\n",
            "Model Performance Metrics:\n",
            "Accuracy:  0.9877\n",
            "Precision: 1.0000\n",
            "Recall:    0.9222\n",
            "F1-Score:  0.9595\n",
            "ROC-AUC:   0.9964\n",
            "\n",
            "🔍 Sample Prediction Probabilities:\n",
            "    Prob_Class_0  Prob_Class_1\n",
            "0      0.999291      0.000709\n",
            "1      0.997680      0.002320\n",
            "2      0.993449      0.006551\n",
            "3      0.991131      0.008869\n",
            "4      0.989199      0.010801\n",
            "\n",
            "Models initialized with class weighting for imbalance handling.\n"
          ]
        },
        {
          "output_type": "stream",
          "name": "stderr",
          "text": [
            "/usr/local/lib/python3.11/dist-packages/sklearn/linear_model/_logistic.py:465: ConvergenceWarning: lbfgs failed to converge (status=1):\n",
            "STOP: TOTAL NO. OF ITERATIONS REACHED LIMIT.\n",
            "\n",
            "Increase the number of iterations (max_iter) or scale the data as shown in:\n",
            "    https://scikit-learn.org/stable/modules/preprocessing.html\n",
            "Please also refer to the documentation for alternative solver options:\n",
            "    https://scikit-learn.org/stable/modules/linear_model.html#logistic-regression\n",
            "  n_iter_i = _check_optimize_result(\n",
            "/usr/local/lib/python3.11/dist-packages/sklearn/utils/validation.py:2739: UserWarning: X does not have valid feature names, but LogisticRegression was fitted with feature names\n",
            "  warnings.warn(\n",
            "/usr/local/lib/python3.11/dist-packages/sklearn/utils/validation.py:2739: UserWarning: X does not have valid feature names, but LogisticRegression was fitted with feature names\n",
            "  warnings.warn(\n"
          ]
        }
      ]
    },
    {
      "cell_type": "markdown",
      "source": [
        "# **LOGISTIC REGRESSION MODEL by applying SMOTE Sampling**"
      ],
      "metadata": {
        "id": "QE_LrqSSgw8B"
      },
      "id": "QE_LrqSSgw8B"
    },
    {
      "cell_type": "code",
      "source": [
        "from imblearn.over_sampling import SMOTE\n",
        "from collections import Counter\n",
        "from sklearn.model_selection import train_test_split\n",
        "\n",
        "# === 1ST SPLIT: TRAIN and TEST SETS ====\n",
        "X_train, X_test, y_train, y_test = train_test_split(\n",
        "    X, y, test_size=0.3, random_state=42, stratify=y\n",
        ")\n",
        "\n",
        "X_test = scaler.transform(X_test)\n",
        "\n",
        "print(f\"Original training set shape: {Counter(y_train)}\")\n",
        "\n",
        "# === APPLY SMOTE ===\n",
        "smote = SMOTE(random_state=42)\n",
        "X_train_resampled, y_train_resampled = smote.fit_resample(X_train, y_train)\n",
        "\n",
        "print(f\"Resampled training set shape: {Counter(y_train_resampled)}\")\n"
      ],
      "metadata": {
        "colab": {
          "base_uri": "https://localhost:8080/"
        },
        "id": "_tp0FjmHMZHe",
        "outputId": "b19adb2f-7e55-43f7-9739-7b05dd1b8d01"
      },
      "id": "_tp0FjmHMZHe",
      "execution_count": 62,
      "outputs": [
        {
          "output_type": "stream",
          "name": "stdout",
          "text": [
            "Original training set shape: Counter({0: 66924, 1: 12557})\n",
            "Resampled training set shape: Counter({0: 66924, 1: 66924})\n"
          ]
        }
      ]
    },
    {
      "cell_type": "code",
      "source": [
        "# === TRAIN MODEL ===\n",
        "log_reg_model_smote = LogisticRegression(max_iter=1000, random_state=42)\n",
        "log_reg_model_smote.fit(X_train_resampled, y_train_resampled)\n",
        "\n",
        "# === PREDICT ===\n",
        "y_pred = log_reg_model_smote.predict(X_test)\n",
        "y_pred_proba = log_reg_model_smote.predict_proba(X_test)[:, 1]\n",
        "\n",
        "# === EVALUATE ===\n",
        "print(\"✅ Accuracy:\", accuracy_score(y_test, y_pred))\n",
        "print(\"\\n📋 Classification Report:\\n\", classification_report(y_test, y_pred))\n",
        "print(\"\\n🧩 Confusion Matrix:\\n\", confusion_matrix(y_test, y_pred))\n",
        "\n",
        "# Additional Metrics\n",
        "print(\"\\nModel Performance Metrics:\")\n",
        "print(f\"Accuracy:  {accuracy_score(y_test, y_pred):.4f}\")\n",
        "print(f\"Precision: {precision_score(y_test, y_pred):.4f}\")\n",
        "print(f\"Recall:    {recall_score(y_test, y_pred):.4f}\")\n",
        "print(f\"F1-Score:  {f1_score(y_test, y_pred):.4f}\")\n",
        "print(f\"ROC-AUC:   {roc_auc_score(y_test, y_pred_proba):.4f}\")\n",
        "\n",
        "# === OPTIONAL: Preview Prediction Probabilities ===\n",
        "proba_df = pd.DataFrame(model.predict_proba(X_test), columns=['Prob_Class_0', 'Prob_Class_1'])\n",
        "print(\"\\n🔍 Sample Prediction Probabilities:\\n\", proba_df.head())\n"
      ],
      "metadata": {
        "colab": {
          "base_uri": "https://localhost:8080/"
        },
        "id": "WppvtvE9M7JE",
        "outputId": "c1e14b82-26c6-4d04-aa7b-f1c60b0a3ab2"
      },
      "id": "WppvtvE9M7JE",
      "execution_count": 63,
      "outputs": [
        {
          "output_type": "stream",
          "name": "stdout",
          "text": [
            "✅ Accuracy: 0.9879638327853453\n",
            "\n",
            "📋 Classification Report:\n",
            "               precision    recall  f1-score   support\n",
            "\n",
            "           0       0.99      1.00      0.99     28682\n",
            "           1       1.00      0.92      0.96      5382\n",
            "\n",
            "    accuracy                           0.99     34064\n",
            "   macro avg       0.99      0.96      0.98     34064\n",
            "weighted avg       0.99      0.99      0.99     34064\n",
            "\n",
            "\n",
            "🧩 Confusion Matrix:\n",
            " [[28682     0]\n",
            " [  410  4972]]\n",
            "\n",
            "Model Performance Metrics:\n",
            "Accuracy:  0.9880\n",
            "Precision: 1.0000\n",
            "Recall:    0.9238\n",
            "F1-Score:  0.9604\n",
            "ROC-AUC:   0.9969\n",
            "\n",
            "🔍 Sample Prediction Probabilities:\n",
            "    Prob_Class_0  Prob_Class_1\n",
            "0      0.999424      0.000576\n",
            "1      0.990188      0.009812\n",
            "2      0.979088      0.020912\n",
            "3      0.975757      0.024243\n",
            "4      0.999886      0.000114\n"
          ]
        },
        {
          "output_type": "stream",
          "name": "stderr",
          "text": [
            "/usr/local/lib/python3.11/dist-packages/sklearn/linear_model/_logistic.py:465: ConvergenceWarning: lbfgs failed to converge (status=1):\n",
            "STOP: TOTAL NO. OF ITERATIONS REACHED LIMIT.\n",
            "\n",
            "Increase the number of iterations (max_iter) or scale the data as shown in:\n",
            "    https://scikit-learn.org/stable/modules/preprocessing.html\n",
            "Please also refer to the documentation for alternative solver options:\n",
            "    https://scikit-learn.org/stable/modules/linear_model.html#logistic-regression\n",
            "  n_iter_i = _check_optimize_result(\n",
            "/usr/local/lib/python3.11/dist-packages/sklearn/utils/validation.py:2739: UserWarning: X does not have valid feature names, but LogisticRegression was fitted with feature names\n",
            "  warnings.warn(\n",
            "/usr/local/lib/python3.11/dist-packages/sklearn/utils/validation.py:2739: UserWarning: X does not have valid feature names, but LogisticRegression was fitted with feature names\n",
            "  warnings.warn(\n"
          ]
        }
      ]
    },
    {
      "cell_type": "markdown",
      "source": [],
      "metadata": {
        "id": "Jm4zhOoH8GkC"
      },
      "id": "Jm4zhOoH8GkC"
    },
    {
      "cell_type": "code",
      "source": [
        "import pandas as pd\n",
        "from sklearn.model_selection import train_test_split\n",
        "from sklearn.linear_model import LogisticRegression\n",
        "from sklearn.preprocessing import StandardScaler\n",
        "from sklearn.metrics import classification_report, confusion_matrix, accuracy_score\n",
        "\n",
        "# Assuming X (features) and y (target) are pandas DataFrame/Series\n",
        "\n",
        "# 1ST SPLIT: 70% TRAIN, 30% TEMP (validation + test) ====\n",
        "X_train, X_temp, y_train, y_temp = train_test_split(\n",
        "    X, y, test_size=0.30, random_state=42, stratify=y\n",
        ")\n",
        "\n",
        "# 2ND SPLIT: 50% VALIDATION, 50% TEST OF THE TEMP SET\n",
        "X_val, X_test, y_val, y_test = train_test_split(\n",
        "    X_temp, y_temp, test_size=0.50, random_state=42, stratify=y_temp\n",
        ")\n",
        "\n",
        "scaler = StandardScaler()\n",
        "\n",
        "# === SCALING ===\n",
        "X_train_scaled = scaler.fit_transform(X_train)\n",
        "\n",
        "# === TRANSFORMATION ===\n",
        "X_val_scaled = scaler.transform(X_val)\n",
        "X_test_scaled = scaler.transform(X_test)\n",
        "\n",
        "log_reg = LogisticRegression(max_iter=1000, random_state=42)\n",
        "\n",
        "# === TRAIN ===\n",
        "log_reg.fit(X_train_scaled, y_train)\n",
        "\n",
        "# === PREDICT ===\n",
        "y_val_pred = log_reg.predict(X_val_scaled)\n",
        "\n",
        "print(\"Logistic Regression Validation Metrics:\")\n",
        "print(classification_report(y_val, y_val_pred))\n",
        "\n",
        "# === VALIDATE ===\n",
        "y_test_pred = log_reg.predict(X_test_scaled)\n",
        "print(\"Logistic Regression Test Metrics:\")\n",
        "print(classification_report(y_test, y_test_pred))\n",
        "print(\"Confusion Matrix:\\n\", confusion_matrix(y_test, y_test_pred))\n",
        "print(\"Accuracy:\", accuracy_score(y_test, y_test_pred))\n",
        "\n",
        "\n"
      ],
      "metadata": {
        "colab": {
          "base_uri": "https://localhost:8080/"
        },
        "id": "2ReBZw0Q8IVh",
        "outputId": "f3561c0f-abb3-4210-ee63-e9c0a7b46f6e"
      },
      "id": "2ReBZw0Q8IVh",
      "execution_count": 64,
      "outputs": [
        {
          "output_type": "stream",
          "name": "stdout",
          "text": [
            "Logistic Regression Validation Metrics:\n",
            "              precision    recall  f1-score   support\n",
            "\n",
            "           0       1.00      1.00      1.00     14341\n",
            "           1       1.00      0.98      0.99      2691\n",
            "\n",
            "    accuracy                           1.00     17032\n",
            "   macro avg       1.00      0.99      0.99     17032\n",
            "weighted avg       1.00      1.00      1.00     17032\n",
            "\n",
            "Logistic Regression Test Metrics:\n",
            "              precision    recall  f1-score   support\n",
            "\n",
            "           0       1.00      1.00      1.00     14341\n",
            "           1       1.00      0.98      0.99      2691\n",
            "\n",
            "    accuracy                           1.00     17032\n",
            "   macro avg       1.00      0.99      0.99     17032\n",
            "weighted avg       1.00      1.00      1.00     17032\n",
            "\n",
            "Confusion Matrix:\n",
            " [[14333     8]\n",
            " [   46  2645]]\n",
            "Accuracy: 0.9968294974166275\n"
          ]
        }
      ]
    }
  ],
  "metadata": {
    "kernelspec": {
      "display_name": "Python 3 (ipykernel)",
      "language": "python",
      "name": "python3"
    },
    "language_info": {
      "codemirror_mode": {
        "name": "ipython",
        "version": 3
      },
      "file_extension": ".py",
      "mimetype": "text/x-python",
      "name": "python",
      "nbconvert_exporter": "python",
      "pygments_lexer": "ipython3",
      "version": "3.13.2"
    },
    "colab": {
      "provenance": []
    }
  },
  "nbformat": 4,
  "nbformat_minor": 5
}