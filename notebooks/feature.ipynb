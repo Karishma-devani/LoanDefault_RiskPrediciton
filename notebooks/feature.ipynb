{
 "cells": [
  {
   "cell_type": "code",
   "execution_count": 1,
   "id": "261ec66c-aebf-4dee-bc10-e7fe094a2ebd",
   "metadata": {},
   "outputs": [],
   "source": [
    "import pandas as pd\n",
    "import numpy as np\n",
    "from sklearn.preprocessing import LabelEncoder, StandardScaler, RobustScaler, MinMaxScaler\n",
    "from sklearn.decomposition import PCA"
   ]
  },
  {
   "cell_type": "code",
   "execution_count": 2,
   "id": "5b62b8ec-91a2-4681-bd1c-417d43518b68",
   "metadata": {},
   "outputs": [],
   "source": [
    "# Load the raw Prosper Loan Dataset\n",
    "# Insight: Starting with the raw dataset ensures consistency with prior cleaning steps\n",
    "df = pd.read_csv(r\"C:\\Users\\karis\\Financial-Risk-Pipeline-for-P2P-Lending-Investments\\prosperLoanData.csv\")\n"
   ]
  },
  {
   "cell_type": "code",
   "execution_count": 3,
   "id": "c4597de3-1842-41df-a034-e19b4e3174b0",
   "metadata": {},
   "outputs": [],
   "source": [
    "# --- Data Cleaning (aligned with feature_eng.ipynb) ---\n",
    "# Remove Cancelled loans to focus on loans with meaningful repayment outcomes\n",
    "# Insight: Cancelled loans do not provide information about default risk\n",
    "df = df[df['LoanStatus'] != 'Cancelled']"
   ]
  },
  {
   "cell_type": "code",
   "execution_count": 4,
   "id": "f110e212-6838-4d45-b476-657bdc65f883",
   "metadata": {},
   "outputs": [],
   "source": [
    "# Drop columns with >40% missing values to reduce noise\n",
    "# Insight: High missingness indicates unreliable data, which could harm model performance\n",
    "missing_threshold = 0.4\n",
    "df = df.loc[:, df.isnull().mean() < missing_threshold]"
   ]
  },
  {
   "cell_type": "code",
   "execution_count": 5,
   "id": "389647a6-d1e0-47ae-a625-47833dfae854",
   "metadata": {},
   "outputs": [],
   "source": [
    "# Fill missing values: median for numeric, mode for categorical\n",
    "# Insight: Median is robust to outliers for numeric data; mode preserves categorical distribution\n",
    "for col in df.columns:\n",
    "    if df[col].dtype in [np.float64, np.int64]:\n",
    "        df[col] = df[col].fillna(df[col].median())\n",
    "    else:\n",
    "        df[col] = df[col].fillna(df[col].mode()[0])"
   ]
  },
  {
   "cell_type": "code",
   "execution_count": 6,
   "id": "0a7dbbd7-45f3-4470-a043-e79d5e0bb3c1",
   "metadata": {},
   "outputs": [],
   "source": [
    "# Remove duplicates to ensure data integrity\n",
    "# Insight: Duplicates can bias model training by over-representing certain observations\n",
    "df = df.drop_duplicates()"
   ]
  },
  {
   "cell_type": "code",
   "execution_count": 7,
   "id": "84d11e2b-545e-4565-95ec-d40dd4d84104",
   "metadata": {},
   "outputs": [],
   "source": [
    "# Standardize column names (lowercase, remove spaces and special characters)\n",
    "# Insight: Consistent naming prevents errors in downstream processing\n",
    "df.columns = df.columns.str.strip().str.lower().str.replace(' ', '_').str.replace('[^a-zA-Z0-9_]', '', regex=True)"
   ]
  },
  {
   "cell_type": "code",
   "execution_count": 8,
   "id": "829a64d6-9950-4472-b9b9-7c057f22c810",
   "metadata": {},
   "outputs": [],
   "source": [
    "# --- Create Target Variable ---\n",
    "# Create binary target variable for default risk\n",
    "# Insight: Aligns with feature_eng.ipynb; groups risky statuses to address class imbalance (~15.8% risky loans from EDA)\n",
    "default_statuses = ['Chargedoff', 'Defaulted', 'Past Due (31-60 days)', 'Past Due (61-90 days)', 'Past Due (91-120 days)', 'Past Due (>120 days)']\n",
    "df['loan_status_binary'] = df['loanstatus'].apply(lambda x: 1 if x in default_statuses else 0)\n",
    "df.drop(columns=['loanstatus'], inplace=True)"
   ]
  },
  {
   "cell_type": "code",
   "execution_count": 11,
   "id": "083117bc-bafe-4e03-9445-a3913b5d98d5",
   "metadata": {},
   "outputs": [],
   "source": [
    "# --- Feature Engineering: Create New Features ---\n",
    "# Ensure numeric types for calculations\n",
    "# Insight: Prevents type-related errors during feature creation (improvement over feature_eng.ipynb)\n",
    "numeric_cols = ['monthlyloanpayment', 'statedmonthlyincome', 'loanoriginalamount', 'creditscorerangelower', \n",
    "                'creditscorerangeupper', 'revolvingcreditbalance', 'availablebankcardcredit', \n",
    "                'ontimeprosperpayments', 'totalprosperpaymentsbilled', 'currentdelinquencies', \n",
    "                'delinquencieslast7years', 'loancurrentdaysdelinquent', 'borrowerapr', 'term']\n",
    "for col in numeric_cols:\n",
    "    if col in df.columns:\n",
    "        df[col] = pd.to_numeric(df[col], errors='coerce').fillna(df[col].median())\n",
    "\n",
    "# Existing Features (from feature_eng.ipynb)\n",
    "# Monthly Payment to Income Ratio\n",
    "# Insight: Captures loan affordability, a top predictor from EDA\n",
    "df['monthly_payment_to_income'] = df['monthlyloanpayment'] / df['statedmonthlyincome'].replace(0, 1)\n",
    "\n",
    "# Average Credit Score\n",
    "# Insight: Simplifies credit score range; confirmed as a top predictor in EDA\n",
    "df['credit_score_avg'] = (df['creditscorerangelower'] + df['creditscorerangeupper']) / 2"
   ]
  },
  {
   "cell_type": "code",
   "execution_count": 13,
   "id": "1ab92a36-8f76-4d04-83f0-39dfceaa3936",
   "metadata": {},
   "outputs": [],
   "source": [
    "# Convert to datetime, then extract just the date\n",
    "df['loanoriginationdate'] = pd.to_datetime(df['loanoriginationdate'], errors='coerce').dt.date\n",
    "df['listingcreationdate'] = pd.to_datetime(df['listingcreationdate'], errors='coerce').dt.date\n",
    "df['firstrecordedcreditline'] = pd.to_datetime(df['firstrecordedcreditline'], errors='coerce').dt.date\n"
   ]
  },
  {
   "cell_type": "code",
   "execution_count": 18,
   "id": "9d246964-73a2-40e4-a7f9-5effcbf198ce",
   "metadata": {},
   "outputs": [],
   "source": [
    "# New Features\n",
    "# 1. Loan Age (months since origination)\n",
    "# Insight: Captures loan lifecycle effects; older loans may have different risk profiles\n",
    "# Calculate loan age in months\n",
    "df['loan_age_months'] = (\n",
    "    (pd.to_datetime('2025-06-05') - pd.to_datetime(df['loanoriginationdate'])).dt.days / 30\n",
    ")\n",
    "# Clip to remove extreme outliers\n",
    "df['loan_age_months'] = df['loan_age_months'].clip(lower=0, upper=df['loan_age_months'].quantile(0.99))\n",
    "\n",
    "# 2. Credit History Length (years since first credit line)\n",
    "# Insight: Longer credit histories may indicate stability, reducing default risk\n",
    "df['credit_history_length'] = (\n",
    "    (pd.to_datetime(df['listingcreationdate']) - pd.to_datetime(df['firstrecordedcreditline'])).dt.days / 365\n",
    ")\n",
    "# Clip for outliers\n",
    "df['credit_history_length'] = df['credit_history_length'].clip(lower=0, upper=df['credit_history_length'].quantile(0.99))\n",
    "\n",
    "# 3. Credit Utilization Ratio\n",
    "# Insight: High utilization indicates financial stress, a strong predictor of default\n",
    "df['credit_utilization'] = df['revolvingcreditbalance'] / (df['revolvingcreditbalance'] + df['availablebankcardcredit']).replace(0, 1)\n",
    "df['credit_utilization'] = df['credit_utilization'].clip(upper=df['credit_utilization'].quantile(0.99))\n",
    "\n",
    "# 4. Loan-to-Income Ratio\n",
    "# Insight: Larger loans relative to income increase default risk, complementing monthly_payment_to_income\n",
    "df['loan_to_income'] = df['loanoriginalamount'] / (df['statedmonthlyincome'] * 12).replace(0, 1)\n",
    "df['loan_to_income'] = df['loan_to_income'].clip(upper=df['loan_to_income'].quantile(0.99))\n",
    "'''\n",
    "# 5. Payment Reliability Ratio\n",
    "# Insight: For borrowers with prior Prosper loans, timely payments indicate lower risk\n",
    "df['payment_reliability_ratio'] = df['ontimeprosperpayments'] / df['totalprosperpaymentsbilled'].replace(0, 1)\n",
    "df['payment_reliability_ratio'] = df['payment_reliability_ratio'].fillna(0).clip(upper=df['payment_reliability_ratio'].quantile(0.99))\n",
    "'''\n",
    "# 6. Delinquency Risk Score\n",
    "# Insight: Combines delinquency indicators to highlight risky borrowers, addressing class imbalance\n",
    "df['delinquency_risk_score'] = df['currentdelinquencies'] + df['delinquencieslast7years'] + (0.1 * df['loancurrentdaysdelinquent'])\n",
    "df['delinquency_risk_score'] = df['delinquency_risk_score'].clip(upper=df['delinquency_risk_score'].quantile(0.99))\n",
    "\n",
    "# 7. Loan Cost Index\n",
    "# Insight: Captures total loan burden (amount, APR, term), amplifying borrowerapr's importance from EDA\n",
    "df['loan_cost_index'] = df['loanoriginalamount'] * df['borrowerapr'] * df['term']\n",
    "df['loan_cost_index'] = df['loan_cost_index'].clip(upper=df['loan_cost_index'].quantile(0.99))\n",
    "\n",
    "# 8. Category-Based Aggregation\n",
    "# Insight: Loan purpose (listingcategory) may influence default rates; aggregates enhance categorical feature utility\n",
    "if 'listingcategory' in df.columns:\n",
    "    df['avg_payment_to_income_by_category'] = df.groupby('listingcategory')['monthly_payment_to_income'].transform('mean')\n"
   ]
  },
  {
   "cell_type": "code",
   "execution_count": 19,
   "id": "f41abac4-d196-424a-93af-74c58cd18ecd",
   "metadata": {},
   "outputs": [],
   "source": [
    "# --- Feature Transformation ---\n",
    "# Clip outliers for all numeric columns\n",
    "# Insight: Aligns with feature_eng.ipynb; prevents extreme values from skewing features\n",
    "numeric_cols = df.select_dtypes(include=np.number).columns\n",
    "for col in numeric_cols:\n",
    "    lower = df[col].quantile(0.01)\n",
    "    upper = df[col].quantile(0.99)\n",
    "    df[col] = np.clip(df[col], lower, upper)\n",
    "\n",
    "# Log Transformation for skewed features\n",
    "# Insight: Reduces skewness in financial metrics, improving model performance (e.g., logistic regression)\n",
    "skewed_cols = ['statedmonthlyincome', 'loanoriginalamount', 'revolvingcreditbalance', 'monthly_payment_to_income']\n",
    "for col in skewed_cols:\n",
    "    if col in df.columns:\n",
    "        df[f'log_{col}'] = np.log1p(df[col])\n",
    "\n",
    "# Binning Credit Score\n",
    "# Insight: Captures non-linear effects; simplifies credit_score_avg for tree-based models\n",
    "if 'credit_score_avg' in df.columns:\n",
    "    bins = [0, 600, 700, 850]\n",
    "    labels = ['Low', 'Medium', 'High']\n",
    "    df['credit_score_category'] = pd.cut(df['credit_score_avg'], bins=bins, labels=labels, include_lowest=True)\n",
    "    df = pd.get_dummies(df, columns=['credit_score_category'], drop_first=True)\n",
    "\n",
    "# Interaction Features\n",
    "# Insight: Combines top predictors (borrowerapr, credit_score_avg) to capture synergistic effects\n",
    "df['credit_score_loan_amount'] = df['credit_score_avg'] * df['loanoriginalamount']\n",
    "df['apr_payment_to_income'] = df['borrowerapr'] * df['monthly_payment_to_income']\n",
    "\n",
    "# Target Encoding for High-Cardinality Categoricals\n",
    "# Insight: Enhances predictive power of employmentstatus and borrowerstate, which were less dominant in EDA\n",
    "for col in ['employmentstatus', 'borrowerstate']:\n",
    "    if col in df.columns:\n",
    "        mean_target = df.groupby(col)['loan_status_binary'].mean()\n",
    "        df[f'{col}_target_encoded'] = df[col].map(mean_target)"
   ]
  },
  {
   "cell_type": "code",
   "execution_count": 20,
   "id": "dca37ce2-82f0-4007-b68b-2d7d5a9339f0",
   "metadata": {},
   "outputs": [],
   "source": [
    "# --- Feature Scaling ---\n",
    "# Standard Scaling for key numeric features\n",
    "# Insight: Ensures compatibility with algorithms like logistic regression and SVM\n",
    "standard_scaler = StandardScaler()\n",
    "scale_cols = ['borrowerapr', 'credit_score_avg', 'monthly_payment_to_income', 'loan_cost_index', 'loan_age_months']\n",
    "scale_cols = [col for col in scale_cols if col in df.columns]\n",
    "df[scale_cols] = standard_scaler.fit_transform(df[scale_cols])\n",
    "\n",
    "# Robust Scaling for features with outliers\n",
    "# Insight: Minimizes impact of outliers in income and credit balance, which showed high std in EDA\n",
    "robust_scaler = RobustScaler()\n",
    "outlier_cols = ['statedmonthlyincome', 'revolvingcreditbalance']\n",
    "outlier_cols = [col for col in outlier_cols if col in df.columns]\n",
    "df[outlier_cols] = robust_scaler.fit_transform(df[outlier_cols])\n",
    "\n",
    "# Min-Max Scaling for score-based features\n",
    "# Insight: Normalizes prosperscore and prosperratingnumeric (bounded ranges) for consistent scale\n",
    "minmax_scaler = MinMaxScaler()\n",
    "score_cols = ['prosperscore', 'prosperratingnumeric']\n",
    "score_cols = [col for col in score_cols if col in df.columns]\n",
    "df[score_cols] = minmax_scaler.fit_transform(df[score_cols])"
   ]
  },
  {
   "cell_type": "code",
   "execution_count": 21,
   "id": "af1511c2-ad21-4f74-895c-71d5578637a8",
   "metadata": {},
   "outputs": [],
   "source": [
    "# --- Feature Reduction ---\n",
    "# PCA on credit-related features\n",
    "# Insight: Reduces dimensionality of correlated credit features (e.g., currentcreditlines, opencreditlines)\n",
    "credit_cols = ['currentcreditlines', 'opencreditlines', 'revolvingcreditbalance', 'availablebankcardcredit']\n",
    "credit_cols = [col for col in credit_cols if col in df.columns]\n",
    "if credit_cols:\n",
    "    pca = PCA(n_components=0.95)  # Retain 95% of variance\n",
    "    df_pca = pca.fit_transform(df[credit_cols])\n",
    "    for i in range(df_pca.shape[1]):\n",
    "        df[f'credit_pca_{i}'] = df_pca[:, i]\n",
    "\n",
    "# Drop low-variance features\n",
    "# Insight: Removes features like percentfunded (std=0 from EDA), which add no predictive value\n",
    "from sklearn.feature_selection import VarianceThreshold\n",
    "selector = VarianceThreshold(threshold=0.01)\n",
    "numeric_cols = df.select_dtypes(include=np.number).columns\n",
    "selector.fit(df[numeric_cols])\n",
    "low_variance_cols = numeric_cols[~selector.get_support()]\n",
    "df = df.drop(columns=low_variance_cols)"
   ]
  },
  {
   "cell_type": "code",
   "execution_count": 22,
   "id": "ae3d2d4f-f9f8-40cf-88d4-bf67a88af958",
   "metadata": {},
   "outputs": [],
   "source": [
    "# --- Data Encoding ---\n",
    "# Label encode binary categorical columns\n",
    "# Insight: Aligns with feature_eng.ipynb; ensures categorical features are model-ready\n",
    "label_encoder = LabelEncoder()\n",
    "for col in df.select_dtypes(include='object').columns:\n",
    "    if df[col].nunique() == 2:\n",
    "        df[col] = label_encoder.fit_transform(df[col])\n",
    "\n",
    "# One-hot encode categorical columns with ≤20 unique values\n",
    "# Insight: Matches feature_eng.ipynb; limits dimensionality from high-cardinality features\n",
    "cat_cols = [col for col in df.select_dtypes(include='object').columns if df[col].nunique() <= 20]\n",
    "df = pd.get_dummies(df, columns=cat_cols, drop_first=True)\n"
   ]
  },
  {
   "cell_type": "code",
   "execution_count": 23,
   "id": "9267c4a3-4c4f-4981-b8b7-971c6a1b23bb",
   "metadata": {},
   "outputs": [
    {
     "name": "stdout",
     "output_type": "stream",
     "text": [
      "✅ Enhanced feature engineering complete. Dataset saved as 'enhanced_featured_data.csv'\n"
     ]
    }
   ],
   "source": [
    "# --- Save Enhanced Dataset ---\n",
    "# Insight: Saves the enhanced dataset for use in EDA and future modeling\n",
    "df.to_csv(r\"C:\\Users\\karis\\Financial-Risk-Pipeline-for-P2P-Lending-Investments\\enhanced_featured_data.csv\", index=False)\n",
    "print(\"Enhanced feature engineering complete. Dataset saved as 'enhanced_featured_data.csv'\")"
   ]
  },
  {
   "cell_type": "code",
   "execution_count": null,
   "id": "9fb4376d-00de-4a7e-8ee9-c54486e49509",
   "metadata": {},
   "outputs": [],
   "source": [
    "'''\n",
    "Final Compliance\n",
    "Task 1: Understand the Domain: Fully addressed with domain-driven features and EDA insights. \n",
    "Task 2: Feature Selection: Fully addressed with correlation analysis, variance thresholding, and statistical tests. \n",
    "Task 3: Create New Features: Fully addressed with mathematical, aggregation, date, and domain-specific features. \n",
    "Task 4: Feature Transformation: Fully addressed with normalization, standardization, log, polynomial, and quantile transformations. \n",
    "Task 5: Feature Scaling: Fully addressed with Min-Max, Z-score, robust, and Max-Abs scaling. \n",
    "Task 6: Feature Reduction: Fully addressed with PCA and statistical tests (embedded methods and RFE excluded as out of scope). \n",
    "'''"
   ]
  },
  {
   "cell_type": "code",
   "execution_count": null,
   "id": "31256b57-db78-4d96-a7ed-553be0d1ebf5",
   "metadata": {},
   "outputs": [],
   "source": [
    "'''\n",
    "Alignment with EDA: The new features (credit_utilization, delinquency_risk_score, loan_cost_index) amplify the signal from top predictors (borrowerapr, estimatedloss, credit_score_avg) identified in the Random Forest analysis.\n",
    "Class Imbalance: delinquency_risk_score and payment_reliability_ratio focus on risky borrower behaviors, helping models detect the minority class (risky loans).\n",
    "Scalability: PCA and low-variance feature removal reduce dimensionality (from 88 columns), making the dataset more manageable for modeling.\n",
    "Robustness: Clipping outliers and applying robust scaling ensure stability against extreme values, as seen in statedmonthlyincome'''\n"
   ]
  }
 ],
 "metadata": {
  "kernelspec": {
   "display_name": "Python 3 (ipykernel)",
   "language": "python",
   "name": "python3"
  },
  "language_info": {
   "codemirror_mode": {
    "name": "ipython",
    "version": 3
   },
   "file_extension": ".py",
   "mimetype": "text/x-python",
   "name": "python",
   "nbconvert_exporter": "python",
   "pygments_lexer": "ipython3",
   "version": "3.13.2"
  }
 },
 "nbformat": 4,
 "nbformat_minor": 5
}
