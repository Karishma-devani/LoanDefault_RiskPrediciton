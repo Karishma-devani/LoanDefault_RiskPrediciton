{
 "cells": [
  {
   "cell_type": "code",
   "execution_count": 1,
   "id": "8999e090-b30e-4794-9cda-649f42ca43d9",
   "metadata": {},
   "outputs": [
    {
     "name": "stderr",
     "output_type": "stream",
     "text": [
      "\n",
      "[notice] A new release of pip is available: 24.3.1 -> 25.1.1\n",
      "[notice] To update, run: python.exe -m pip install --upgrade pip\n",
      "ERROR: To modify pip, please run the following command:\n",
      "C:\\Python313\\python.exe -m pip install --upgrade pip -q\n",
      "\n",
      "[notice] A new release of pip is available: 24.3.1 -> 25.1.1\n",
      "[notice] To update, run: python.exe -m pip install --upgrade pip\n",
      "\n",
      "[notice] A new release of pip is available: 24.3.1 -> 25.1.1\n",
      "[notice] To update, run: python.exe -m pip install --upgrade pip\n",
      "\n",
      "[notice] A new release of pip is available: 24.3.1 -> 25.1.1\n",
      "[notice] To update, run: python.exe -m pip install --upgrade pip\n"
     ]
    }
   ],
   "source": [
    "# Install required packages\n",
    "!pip install --upgrade pip -q\n",
    "!pip install pandas -q\n",
    "!pip install numpy -q\n",
    "!pip install scikit-learn -q\n",
    "\n",
    "import pandas as pd\n",
    "import numpy as np\n",
    "from sklearn.preprocessing import LabelEncoder"
   ]
  },
  {
   "cell_type": "code",
   "execution_count": 2,
   "id": "39a9dfcd-814c-43f8-9918-642dc07e18db",
   "metadata": {},
   "outputs": [],
   "source": [
    "# Load dataset\n",
    "df = pd.read_csv(r\"C:\\Users\\karis\\OneDrive\\Technocolab\\Prosper_Dataset\\Prosper_Dataset\\prosperLoanData.csv\")"
   ]
  },
  {
   "cell_type": "code",
   "execution_count": 3,
   "id": "8417def1-6475-40fb-af3b-01ab3eb106bd",
   "metadata": {},
   "outputs": [],
   "source": [
    "# =========================\n",
    "# 1. Data Cleaning\n",
    "# =========================\n",
    "\n",
    "# Filter out Cancelled loans to focus on loans with meaningful repayment outcomes\n",
    "df = df[df['LoanStatus'] != 'Cancelled']\n",
    "\n",
    "# Drop columns with more than 40% missing values\n",
    "missing_threshold = 0.4\n",
    "df = df.loc[:, df.isnull().mean() < missing_threshold]\n",
    "\n",
    "# Fill missing values: median for numeric, mode for categorical\n",
    "for col in df.columns:\n",
    "    if df[col].dtype in [np.float64, np.int64]:\n",
    "        df[col] = df[col].fillna(df[col].median())\n",
    "    else:\n",
    "        df[col] = df[col].fillna(df[col].mode()[0])\n",
    "\n",
    "# Remove duplicate rows\n",
    "df = df.drop_duplicates()\n",
    "\n",
    "# Standardize column names (lowercase, remove spaces and special characters)\n",
    "df.columns = df.columns.str.strip().str.lower().str.replace(' ', '_').str.replace('[^a-zA-Z0-9_]', '', regex=True)\n",
    "\n",
    "# Convert date columns to datetime\n",
    "date_cols = [col for col in df.columns if 'date' in col or 'month' in col or 'year' in col]\n",
    "for col in date_cols:\n",
    "    try:\n",
    "        df[col] = pd.to_datetime(df[col])\n",
    "    except:\n",
    "        pass"
   ]
  },
  {
   "cell_type": "code",
   "execution_count": 4,
   "id": "2420bd47-e318-4eab-bf2c-4f74e86d45aa",
   "metadata": {},
   "outputs": [],
   "source": [
    "# =========================\n",
    "# 2. Target Variable Creation\n",
    "# =========================\n",
    "\n",
    "# Define risky statuses (conservative approach: all PastDue are risky)\n",
    "default_statuses = [\n",
    "    'Chargedoff', 'Defaulted',\n",
    "    'Past Due (31-60 days)', 'Past Due (61-90 days)',\n",
    "    'Past Due (91-120 days)', 'Past Due (>120 days)'\n",
    "]\n",
    "\n",
    "# Create binary target variable (1: risky, 0: non-risky)\n",
    "df['loan_status_binary'] = df['loanstatus'].apply(lambda x: 1 if x in default_statuses else 0)\n",
    "\n",
    "# Drop original loanstatus column\n",
    "df.drop(columns=['loanstatus'], inplace=True)"
   ]
  },
  {
   "cell_type": "code",
   "execution_count": 5,
   "id": "96363b46-3a86-462e-8e30-2e0dd552d718",
   "metadata": {},
   "outputs": [],
   "source": [
    "# =========================\n",
    "# 3. Data Encoding\n",
    "# =========================\n",
    "\n",
    "# Label encode binary categorical columns\n",
    "label_encoder = LabelEncoder()\n",
    "for col in df.select_dtypes(include='object').columns:\n",
    "    if df[col].nunique() == 2:\n",
    "        df[col] = label_encoder.fit_transform(df[col])\n",
    "\n",
    "# One-hot encode multi-category columns (with <= 20 unique values)\n",
    "cat_cols = [col for col in df.select_dtypes(include='object').columns if df[col].nunique() <= 20]\n",
    "df = pd.get_dummies(df, columns=cat_cols, drop_first=True)"
   ]
  },
  {
   "cell_type": "code",
   "execution_count": 6,
   "id": "c3fdf8bf-ec29-42cc-b140-cac567515224",
   "metadata": {},
   "outputs": [],
   "source": [
    "# =========================\n",
    "# 4. Handling Outliers\n",
    "# =========================\n",
    "\n",
    "# Clip outliers for numeric columns at 1st and 99th percentiles\n",
    "numeric_cols = df.select_dtypes(include=np.number).columns\n",
    "for col in numeric_cols:\n",
    "    lower = df[col].quantile(0.01)\n",
    "    upper = df[col].quantile(0.99)\n",
    "    df[col] = np.clip(df[col], lower, upper)"
   ]
  },
  {
   "cell_type": "code",
   "execution_count": 7,
   "id": "5bd8e746-bc66-4fc2-92fb-6b89f36fe769",
   "metadata": {},
   "outputs": [
    {
     "name": "stdout",
     "output_type": "stream",
     "text": [
      "✅ Preprocessing complete. Dataset saved as 'processed_data.csv'\n"
     ]
    }
   ],
   "source": [
    "# =========================\n",
    "# 5. Save Cleaned Dataset\n",
    "# =========================\n",
    "\n",
    "# Save the processed dataset\n",
    "df.to_csv(\"processed_data.csv\", index=False)\n",
    "print(\"✅ Preprocessing complete. Dataset saved as 'processed_data.csv'\")"
   ]
  },
  {
   "cell_type": "code",
   "execution_count": null,
   "id": "3c1af549-55cf-4327-8607-42c370c3ccde",
   "metadata": {},
   "outputs": [],
   "source": []
  }
 ],
 "metadata": {
  "kernelspec": {
   "display_name": "Python 3 (ipykernel)",
   "language": "python",
   "name": "python3"
  },
  "language_info": {
   "codemirror_mode": {
    "name": "ipython",
    "version": 3
   },
   "file_extension": ".py",
   "mimetype": "text/x-python",
   "name": "python",
   "nbconvert_exporter": "python",
   "pygments_lexer": "ipython3",
   "version": "3.13.2"
  }
 },
 "nbformat": 4,
 "nbformat_minor": 5
}
